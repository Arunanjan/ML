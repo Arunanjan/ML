{
 "cells": [
  {
   "cell_type": "code",
   "execution_count": 2,
   "id": "9b515cd3",
   "metadata": {},
   "outputs": [],
   "source": [
    "import numpy as np\n",
    "import pandas as pd"
   ]
  },
  {
   "cell_type": "code",
   "execution_count": 9,
   "id": "c35c7a21",
   "metadata": {},
   "outputs": [],
   "source": [
    "dataset=pd.read_csv(\"Social_Network_Ads.csv\")\n",
    "x=dataset.iloc[:,:-1]\n",
    "y=dataset.iloc[:,-1]"
   ]
  },
  {
   "cell_type": "code",
   "execution_count": 10,
   "id": "9258641e",
   "metadata": {},
   "outputs": [],
   "source": [
    "from sklearn.model_selection import train_test_split\n",
    "x_train, x_test, y_train, y_test = train_test_split(x, y, test_size = 0.25, random_state = 0)"
   ]
  },
  {
   "cell_type": "code",
   "execution_count": 11,
   "id": "78389458",
   "metadata": {},
   "outputs": [],
   "source": [
    "from sklearn.preprocessing import StandardScaler\n",
    "sc = StandardScaler()\n",
    "x_train = sc.fit_transform(x_train)\n",
    "x_test = sc.transform(x_test)"
   ]
  },
  {
   "cell_type": "code",
   "execution_count": 24,
   "id": "012bf840",
   "metadata": {},
   "outputs": [],
   "source": [
    "from sklearn.tree import DecisionTreeClassifier\n",
    "classifier1 = DecisionTreeClassifier(criterion = 'entropy', random_state = 0)\n",
    "classifier1.fit(x_train, y_train)\n",
    "y_pred1 = classifier.predict(x_test)"
   ]
  },
  {
   "cell_type": "code",
   "execution_count": 25,
   "id": "6727dc21",
   "metadata": {},
   "outputs": [],
   "source": [
    "from sklearn.ensemble import RandomForestClassifier\n",
    "classifier2 = RandomForestClassifier(n_estimators = 10, criterion = 'entropy', random_state = 0)\n",
    "classifier2.fit(x_train, y_train)\n",
    "y_pred2 = classifier2.predict(x_test)"
   ]
  },
  {
   "cell_type": "code",
   "execution_count": 28,
   "id": "0c2e6447",
   "metadata": {},
   "outputs": [],
   "source": [
    "estimator = []\n",
    "estimator.append(('DTC', DecisionTreeClassifier()))\n",
    "estimator.append(('RF', RandomForestClassifier()))"
   ]
  },
  {
   "cell_type": "code",
   "execution_count": 33,
   "id": "43bc6ba2",
   "metadata": {},
   "outputs": [],
   "source": [
    "from sklearn.ensemble import VotingClassifier\n",
    "# Voting Classifier with hard voting\n",
    "vot_hard = VotingClassifier(estimators = estimator, voting ='hard')\n",
    "vot_hard.fit(x_train, y_train)\n",
    "y_pred3 = vot_hard.predict(x_test)"
   ]
  },
  {
   "cell_type": "code",
   "execution_count": 34,
   "id": "4b2a3287",
   "metadata": {},
   "outputs": [],
   "source": [
    "# Voting Classifier with soft voting\n",
    "vot_soft = VotingClassifier(estimators = estimator, voting ='soft')\n",
    "vot_soft.fit(x_train, y_train)\n",
    "y_pred4 = vot_soft.predict(x_test)"
   ]
  },
  {
   "cell_type": "code",
   "execution_count": 35,
   "id": "ec4e543f",
   "metadata": {},
   "outputs": [],
   "source": [
    "from sklearn.metrics import accuracy_score\n",
    "a=accuracy_score(y_test,y_pred1)\n",
    "b=accuracy_score(y_test,y_pred2)\n",
    "c=accuracy_score(y_test,y_pred3)\n",
    "d=accuracy_score(y_test,y_pred4)"
   ]
  },
  {
   "cell_type": "code",
   "execution_count": 36,
   "id": "795c51b4",
   "metadata": {},
   "outputs": [
    {
     "name": "stdout",
     "output_type": "stream",
     "text": [
      "0.91\n",
      "0.91\n",
      "0.91\n",
      "0.9\n"
     ]
    }
   ],
   "source": [
    "print(a)\n",
    "print(b)\n",
    "print(c)\n",
    "print(d)"
   ]
  },
  {
   "cell_type": "code",
   "execution_count": null,
   "id": "46607c6f",
   "metadata": {},
   "outputs": [],
   "source": []
  }
 ],
 "metadata": {
  "kernelspec": {
   "display_name": "Python 3",
   "language": "python",
   "name": "python3"
  },
  "language_info": {
   "codemirror_mode": {
    "name": "ipython",
    "version": 3
   },
   "file_extension": ".py",
   "mimetype": "text/x-python",
   "name": "python",
   "nbconvert_exporter": "python",
   "pygments_lexer": "ipython3",
   "version": "3.8.10"
  }
 },
 "nbformat": 4,
 "nbformat_minor": 5
}
